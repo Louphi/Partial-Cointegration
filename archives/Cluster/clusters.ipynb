{
 "cells": [
  {
   "cell_type": "code",
   "execution_count": 2,
   "metadata": {},
   "outputs": [
    {
     "name": "stderr",
     "output_type": "stream",
     "text": [
      "/Library/Frameworks/Python.framework/Versions/3.10/lib/python3.10/site-packages/scipy/__init__.py:146: UserWarning: A NumPy version >=1.17.3 and <1.25.0 is required for this version of SciPy (detected version 1.26.0\n",
      "  warnings.warn(f\"A NumPy version >={np_minversion} and <{np_maxversion}\"\n"
     ]
    },
    {
     "data": {
      "text/plain": [
       "<module 'cluster' from '/Users/sebastiencaron/Desktop/TradingClubHFT/Codes/Cointegration/Cluster/cluster.py'>"
      ]
     },
     "execution_count": 2,
     "metadata": {},
     "output_type": "execute_result"
    }
   ],
   "source": [
    "import pandas as pd\n",
    "from sklearn.preprocessing import StandardScaler\n",
    "from sklearn.cluster import KMeans, AgglomerativeClustering\n",
    "from itertools import combinations\n",
    "import cluster \n",
    "from importlib import reload\n",
    "reload(cluster)\n",
    "#identifiant = sebastien17\n"
   ]
  },
  {
   "attachments": {},
   "cell_type": "markdown",
   "metadata": {},
   "source": [
    "#### Example Clusters\n"
   ]
  },
  {
   "cell_type": "code",
   "execution_count": 64,
   "metadata": {},
   "outputs": [
    {
     "name": "stdout",
     "output_type": "stream",
     "text": [
      "  Pair Name Stock 1 Stock 2  Cluster  Year\n",
      "0       C/D       C       D        0  2008\n",
      "1       C/E       C       E        0  2008\n",
      "2       D/E       D       E        0  2008\n",
      "3       A/B       A       B        1  2008\n"
     ]
    }
   ],
   "source": [
    "sample_data = {\n",
    "    'Stock': ['A', 'B', 'C', 'D', 'E'],\n",
    "    'P/E': [15, 16, 30, 32, 33],\n",
    "    'P/B': [1.5, 1.4, 3.2, 3.3, 3.1],\n",
    "    'Dividend Yield': [2, 1.8, 0.5, 0.4, 0.45]\n",
    "}\n",
    "df_sample = pd.DataFrame(sample_data)\n",
    "\n",
    "# Clustering using K-means\n",
    "stock_cluster = cluster.StockCluster(df_sample)\n",
    "stock_cluster.cluster(method='kmeans', n_clusters=2)\n",
    "kmeans_clusters = stock_cluster.get_clusters()\n",
    "\n",
    "# Generating pairs\n",
    "pairs_df = cluster.generate_pairs_with_year(kmeans_clusters, 2008)\n",
    "\n",
    "print(pairs_df)\n"
   ]
  },
  {
   "attachments": {},
   "cell_type": "markdown",
   "metadata": {},
   "source": [
    "#### Now, let's try with real stock fundamental data"
   ]
  },
  {
   "cell_type": "code",
   "execution_count": 3,
   "metadata": {},
   "outputs": [
    {
     "data": {
      "text/plain": [
       "<module 'nasdaq_queryObject' from '/Users/sebastiencaron/Desktop/TradingClubHFT/Codes/WRDS/nasdaq_queryObject.py'>"
      ]
     },
     "execution_count": 3,
     "metadata": {},
     "output_type": "execute_result"
    }
   ],
   "source": [
    "import sys\n",
    "sys.path.append('/Users/sebastiencaron/Desktop/TradingClubHFT/Codes/WRDS')\n",
    "import nasdaq_queryObject as nasdaq\n",
    "reload(nasdaq)\n"
   ]
  },
  {
   "cell_type": "code",
   "execution_count": 5,
   "metadata": {},
   "outputs": [
    {
     "name": "stdout",
     "output_type": "stream",
     "text": [
      "WRDS recommends setting up a .pgpass file.\n",
      "Created .pgpass file successfully.\n",
      "You can create this file yourself at any time with the create_pgpass_file() function.\n",
      "Loading library list...\n",
      "Done\n"
     ]
    }
   ],
   "source": [
    "nCluster = 100\n",
    "year = 2008\n",
    "# Create instance\n",
    "nasdaq_data = nasdaq.NasdaqData()"
   ]
  },
  {
   "cell_type": "code",
   "execution_count": 6,
   "metadata": {},
   "outputs": [
    {
     "name": "stdout",
     "output_type": "stream",
     "text": [
      "      item5601  item7011      item7210      item7220      item7230  \\\n",
      "0        RCI.B   25800.0  1.571140e+10  3.877747e+09  1.402207e+10   \n",
      "41         CRY     276.0  2.933771e+07  7.244019e+07  1.038763e+08   \n",
      "49         AEM    1917.0  7.971536e+09  2.517763e+09  3.357186e+09   \n",
      "71       FLY.A   10420.0  1.261995e+09  1.624140e+10  2.348332e+10   \n",
      "72        FLYA    4439.0  2.140877e+09  5.712470e+08  2.221819e+09   \n",
      "...        ...       ...           ...           ...           ...   \n",
      "79690     STBX     132.0  2.278550e+07 -3.223540e+05  7.089010e+05   \n",
      "79693     SHPH      21.0  1.238738e+08  2.397230e+05  2.523950e+05   \n",
      "79701     ASPI       4.0  2.666213e+07  5.997664e+06  7.142638e+06   \n",
      "79704       NA       4.0  5.673326e+07 -7.433800e+06  9.421418e+06   \n",
      "79707     HUDA     179.0  3.123315e+07  4.242000e+03  4.475890e+05   \n",
      "\n",
      "           item7240      item7250  item8101  item8106  item8111  ...  \\\n",
      "0      9.298554e+09  8.219807e+08   0.51317   0.83797   0.00000  ...   \n",
      "41     5.364694e+07 -2.854555e+07   3.14066   3.61418  76.36686  ...   \n",
      "49     3.216916e+08  6.379719e+07   1.56784   2.02991  48.32533  ...   \n",
      "71     5.523526e+09  6.448412e+08   0.86768   2.30347  31.06774  ...   \n",
      "72     1.295300e+09  3.170425e+07   0.88488   1.25978  11.25509  ...   \n",
      "...             ...           ...       ...       ...       ...  ...   \n",
      "79690  1.538630e+05 -2.051540e+05   0.63306   0.63442  56.74441  ...   \n",
      "79693  0.000000e+00 -3.285340e+05  14.19058  14.19058  59.47904  ...   \n",
      "79701  0.000000e+00 -2.607927e+06   9.73697  10.61900  91.69393  ...   \n",
      "79704  3.088784e+05 -5.476140e+06   0.38883   0.53773  59.87785  ...   \n",
      "79707  0.000000e+00 -2.075800e+04   0.37973   1.00957  37.61330  ...   \n",
      "\n",
      "        item8371  item8401      item8406    item8601   item8611    item8621  \\\n",
      "0       21.41199   0.66314  6.625194e+05    57.00000  140.96386    11.53670   \n",
      "41     -32.57496   0.51645  4.587894e+05     7.83041  -20.86076   -25.19204   \n",
      "49       3.17300   0.09582  2.134811e+06   -51.38427   -0.62935    51.13740   \n",
      "71       5.04346   0.23521  3.053722e+06   -63.91753    5.26316   149.67938   \n",
      "72       4.21037   0.58299  5.045283e+05   -65.68627    5.26316     8.32196   \n",
      "...          ...       ...           ...         ...        ...         ...   \n",
      "79690  -89.47298   0.21704  2.846342e+05  5354.41176    0.00000    60.32850   \n",
      "79693  -89.47298   0.00000  1.192496e+06  5354.41176    0.00000   523.70052   \n",
      "79701 -129.98830   0.00000  1.785660e+06  5354.41176    0.00000  1227.96202   \n",
      "79704  -79.43531   0.03278  1.785660e+06  5354.41176    0.00000    74.95308   \n",
      "79707   48.83583   0.00000  2.973845e+05  5354.41176    0.00000   -62.81239   \n",
      "\n",
      "        item8626    item8631   item8636   item6004  \n",
      "0        5.73770    11.97274   57.29984  775109200  \n",
      "41     -10.96774   -16.39555    7.83055  G3159C109  \n",
      "49      47.12203   -14.56022  -47.44423  008474108  \n",
      "71      47.80142    54.35364   24.08758  12541C203  \n",
      "72      16.29552    13.62449  -27.30871  12541C203  \n",
      "...          ...         ...        ...        ...  \n",
      "79690   -4.04040    44.44785    2.39530  G8437S115  \n",
      "79693   23.52941   127.21633  148.84226  825693203  \n",
      "79701  100.00000     0.00000  148.84226  00218A105  \n",
      "79704  100.00000     0.00000  148.84226  63011A102  \n",
      "79707   46.72131  2281.08405  148.84226  44364H100  \n",
      "\n",
      "[6633 rows x 29 columns]\n",
      "          Pair Name Stock 1 Stock 2  Cluster  Year\n",
      "0         CIGI/AGCO    CIGI    AGCO        0  2008\n",
      "1        CIGI/AMCRY    CIGI   AMCRY        0  2008\n",
      "2         CIGI/UHAL    CIGI    UHAL        0  2008\n",
      "3         CIGI/AMKR    CIGI    AMKR        0  2008\n",
      "4         CIGI/BALL    CIGI    BALL        0  2008\n",
      "...             ...     ...     ...      ...   ...\n",
      "2363831    APA/NPAB     APA    NPAB       99  2008\n",
      "2363832    APA/MCAC     APA    MCAC       99  2008\n",
      "2363833    CHK/NPAB     CHK    NPAB       99  2008\n",
      "2363834    CHK/MCAC     CHK    MCAC       99  2008\n",
      "2363835   NPAB/MCAC    NPAB    MCAC       99  2008\n",
      "\n",
      "[2363836 rows x 5 columns]\n"
     ]
    }
   ],
   "source": [
    "nasdaq_data.getCompInfo(year)\n",
    "\n",
    "df = nasdaq_data.data\n",
    "\n",
    "df = df.iloc[:, :-1]\n",
    "\n",
    "#Take the first 100 stocks\n",
    "\n",
    "# Clustering using K-means\n",
    "stock_cluster = cluster.StockCluster(df)\n",
    "\n",
    "\n",
    "stock_cluster.cluster(method='kmeans', n_clusters=nCluster)\n",
    "kmeans_clusters = stock_cluster.get_clusters()\n",
    "\n",
    "# Generating pairs\n",
    "pairs_df = cluster.generate_pairs_with_year(kmeans_clusters, year)\n",
    "\n",
    "print(pairs_df)"
   ]
  }
 ],
 "metadata": {
  "kernelspec": {
   "display_name": "Python 3",
   "language": "python",
   "name": "python3"
  },
  "language_info": {
   "codemirror_mode": {
    "name": "ipython",
    "version": 3
   },
   "file_extension": ".py",
   "mimetype": "text/x-python",
   "name": "python",
   "nbconvert_exporter": "python",
   "pygments_lexer": "ipython3",
   "version": "3.10.5"
  },
  "orig_nbformat": 4
 },
 "nbformat": 4,
 "nbformat_minor": 2
}
